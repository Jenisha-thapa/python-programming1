{
 "cells": [
  {
   "cell_type": "markdown",
   "metadata": {},
   "source": [
    " ### WEEK 1\n",
    "\n",
    "Jenisha Thapa \n",
    "\n",
    "PRG 339: Python Programming\n",
    "\n",
    "Prof. Tekraj Pant\n",
    "\n",
    "Westcliff University, California\n",
    " \n",
    "October 10, 2024"
   ]
  },
  {
   "cell_type": "markdown",
   "metadata": {},
   "source": [
    "### Learnings From Week-1 \n",
    "Python Basics\n",
    "\n",
    "- In week-1 we began with an basic overview of Python learning how versatile it is and its wide-ranging applications in various field.\n",
    "- We introduced the concepts of variables, how they are stored in memory and allow us to use different kinds of decisions. \n",
    "- We explored a number of data types:\n",
    "- Integers and floats for numeric-based data. \n",
    "- Booleans for conditions involving yes/no. \n",
    "- Strings enable us to manipulate text by maintaining sequences of characters. \n",
    "- Complex numbers for specialized math calculations.\n",
    "\n",
    "Conditional Statements\n",
    "\n",
    "- We learned how conditional statements are used to control the flow of programs and to enable the code to make decisions based on conditions.\n",
    "- if: A block of code is executed if the condition is true. \n",
    "- elif: Additional conditions can be checked if the initial statement-if-is false. \n",
    "- else: Runs a block of code if none of the conditions above are met. \n",
    "\n",
    "Loops (Iteration)\n",
    "\n",
    "- We have covered the loops to handle repetitive tasks, enhancing efficiency and enhancing code simplicity:\n",
    "- while: Runs a block of code as long as a specified condition is true. \n",
    "- for: Iterates over any sequence (like a list or string)allowing a block of code to be run for each item in said iterable. \n",
    "\n",
    "Data Types and Methods\n",
    "\n",
    "- We went over Python's fundamental data structures for the presentation and transformation of data effectively.\n",
    "- Lists: the mutable sequence can be edited to insert items, remove items, or modify existing items.\n",
    "- Tuples: These are immutable sequence that cannot have their elements modified after creation. \n",
    "- Sets: Sets are collections of elements without repetition They are helpful in getting rid of data duplication. \n",
    "- Dictionaries: A key and value pairing; these offer an effective method to store data by and retrieve data by a specific identifier.\n",
    "\n",
    "List Methods Covered\n",
    "- We also learned various list methods like append(), pop(), remove(), insert(), extend(), and clear() for manipulating lists.\n",
    "\n",
    "### Summary \n",
    "In Week 1 of PRG 330, we were introduced to Python basics, learning about its origins and writing our first program, \"Hello World.\" We explored different variable and data types like integers, strings, boolens, and complex numbers. If, elif, and else decision-making structures were used to show if a number was odd or even. Loops such as while were used in the creation of lists, summing of numbers, and also in the reversal of strings. Other list operations covered included appending, removing and inserting of items, among others. Other areas touched on the course included list comprehension, filtering even numbers. Further, we learned about built-in functions in Python such as len() used in the count of elements, lower() for string manipulation. hence, these foundational concepts helped us understand how loops and control structures can be applied in programming, preparing us for more advanced topics."
   ]
  },
  {
   "cell_type": "markdown",
   "metadata": {},
   "source": [
    "### To Print Hello World "
   ]
  },
  {
   "cell_type": "code",
   "execution_count": 2,
   "metadata": {},
   "outputs": [
    {
     "name": "stdout",
     "output_type": "stream",
     "text": [
      "hello world\n",
      "14\n"
     ]
    }
   ],
   "source": [
    "hello = \"hello world\"\n",
    "print(hello)\n",
    "a = 4\n",
    "b = 10\n",
    "print(a+b)\n",
    "hightest_mountain = \"Everst\"\n",
    "real_imaginary = 1j\n",
    "\n"
   ]
  },
  {
   "cell_type": "markdown",
   "metadata": {},
   "source": [
    "### To Print First and Last Name \n"
   ]
  },
  {
   "cell_type": "code",
   "execution_count": 22,
   "metadata": {},
   "outputs": [
    {
     "name": "stdout",
     "output_type": "stream",
     "text": [
      "1\n",
      "2\n",
      "13\n",
      "first last name Jenisha thapa\n",
      "J\n",
      "e\n",
      "Jenisha-thapa Jenisha-thapa\n",
      "JENISHA THAPA\n"
     ]
    }
   ],
   "source": [
    "a = 2\n",
    "b = 3\n",
    "#division\n",
    "div_of_ab = 18//10\n",
    "print(div_of_ab)\n",
    "#modulus\n",
    "rem_a_b = a%b\n",
    "print(rem_a_b)\n",
    "name = \"Jenisha thapa\"\n",
    "#length of  the string \n",
    "total_no_of_chars = len(name)\n",
    "print(total_no_of_chars)\n",
    "# sub-string\n",
    "first_name = name[0:7]\n",
    "last_name = name[8:13]\n",
    "print(\"first last name\", first_name, last_name)\n",
    "#get first char\n",
    "first_char = name[0]\n",
    "print(first_char)\n",
    "#get last char\n",
    "last_char = name[1]\n",
    "print(last_char)\n",
    "\n",
    "# concatination \n",
    "full_name = first_name+ \"-\" + last_name\n",
    "\n",
    "full_name1 = f\"{first_name} {last_name}\"\n",
    "print(full_name,full_name)\n",
    "print(name.upper())\n",
    "#capitalize \n",
    "capital_name = \"test\".find(\"z\")"
   ]
  },
  {
   "cell_type": "markdown",
   "metadata": {},
   "source": [
    "### conditional statement \n",
    "\n",
    "- if  \n",
    "- elif \n",
    "- else\n",
    "\n"
   ]
  },
  {
   "cell_type": "markdown",
   "metadata": {},
   "source": [
    "### Conditional statement to checks the value and Print corresponding message"
   ]
  },
  {
   "cell_type": "code",
   "execution_count": null,
   "metadata": {},
   "outputs": [
    {
     "name": "stdout",
     "output_type": "stream",
     "text": [
      "I have to wake up at 5PM\n",
      "I have to go to office\n",
      "It`s wednesday\n"
     ]
    }
   ],
   "source": [
    "# Input the current day and check week-days. \n",
    "day = 4\n",
    "if day == 4:\n",
    "    print(\"I have to wake up at 5PM\")\n",
    "    print(\"I have to go to office\")\n",
    "    print(\"It`s wednesday\")\n",
    "elif day == 5:\n",
    "    print(\"Its Thursday\")\n",
    "elif day == 6:\n",
    "    print(\"Its friday\")\n",
    "else:\n",
    "    print(\"weekend\")\n",
    "\n",
    "# Input the Current time and check the classes \n",
    "time = 10 \n",
    "# 10 => \"Math\"\n",
    "# 12 => \"DSA\"\n",
    "# 14 => \"englis\"\n",
    "\n",
    "time = int(input(\"Enter time\"))\n",
    "\n",
    "if time>= 10 and time<12:\n",
    "    print(\"Maths class\")\n",
    "elif time>=12 and time<14:\n",
    "    print(\"DSA class\")\n",
    "elif time<=14: \n",
    "    print(\"English class\")\n",
    "else:\n",
    "    print(\"Holiday\")"
   ]
  },
  {
   "cell_type": "markdown",
   "metadata": {},
   "source": [
    "## loops (iteration)\n",
    "- while \n",
    "- for \n"
   ]
  },
  {
   "cell_type": "code",
   "execution_count": 6,
   "metadata": {},
   "outputs": [
    {
     "name": "stdout",
     "output_type": "stream",
     "text": [
      "Hello world! 1\n",
      "Hello world! 2\n",
      "1\n",
      "2\n",
      "3\n",
      "4\n",
      "5\n",
      "6\n",
      "7\n",
      "8\n",
      "9\n",
      "10\n",
      "55\n",
      "30\n"
     ]
    }
   ],
   "source": [
    "# To print hello world using loop\n",
    "\n",
    "counter = 1\n",
    "while counter<=2:\n",
    "    print(f\"Hello world! {counter}\")\n",
    "    counter += 1\n",
    "\n",
    "\n",
    "# To find the sum of \n",
    "n=10\n",
    "r = 0\n",
    "COUNTER = 1\n",
    "while COUNTER<=n:\n",
    "    print (COUNTER)\n",
    "    r+=COUNTER\n",
    "    COUNTER +=1\n",
    "print(r)\n",
    "\n",
    "# To find sum of even and odd numbers \n",
    "i = 1\n",
    "n = 10\n",
    "sum_of_even_numbers = 0\n",
    "sum_of_odd_numbers = 0\n",
    "while i<=n:\n",
    "    if i%2==0:\n",
    "        sum_of_even_numbers+=i\n",
    "    else:\n",
    "        sum_of_odd_numbers+=i\n",
    "    i+=1\n",
    "print(sum_of_even_numbers)  "
   ]
  },
  {
   "cell_type": "markdown",
   "metadata": {},
   "source": [
    "### Print Statements in Loop \n"
   ]
  },
  {
   "cell_type": "code",
   "execution_count": 7,
   "metadata": {},
   "outputs": [
    {
     "name": "stdout",
     "output_type": "stream",
     "text": [
      "Jenisha Thapa\n",
      "0\n",
      "Jenisha 0\n",
      "Jenisha Thapa\n",
      "1\n",
      "Jenisha 1\n",
      "Jenisha Thapa\n",
      "2\n",
      "Jenisha 2\n",
      "Jenisha Thapa\n",
      "3\n",
      "Jenisha 3\n",
      "Jenisha Thapa\n",
      "4\n",
      "Jenisha 4\n",
      "Jenisha Thapa\n",
      "5\n",
      "Jenisha 5\n",
      "Jenisha Thapa\n",
      "6\n",
      "Jenisha 6\n",
      "Jenisha Thapa\n",
      "7\n",
      "Jenisha 7\n",
      "Jenisha Thapa\n",
      "8\n",
      "Jenisha 8\n",
      "Jenisha Thapa\n",
      "9\n",
      "Jenisha 9\n",
      "Jenisha Thapa\n",
      "10\n",
      "Jenisha 10\n"
     ]
    }
   ],
   "source": [
    "# To Print Name for 10 Times \n",
    "counter = 0\n",
    "while counter <=10:\n",
    "    print(\"Jenisha Thapa\")\n",
    "    print(counter)\n",
    "    print(f\"Jenisha {counter}\")\n",
    "    counter +=1\n",
    "    "
   ]
  },
  {
   "cell_type": "markdown",
   "metadata": {},
   "source": [
    "### Print first 100 numbers and print the sum of the numbers"
   ]
  },
  {
   "cell_type": "code",
   "execution_count": 9,
   "metadata": {},
   "outputs": [
    {
     "name": "stdout",
     "output_type": "stream",
     "text": [
      "1\n",
      "2\n",
      "3\n",
      "4\n",
      "5\n",
      "6\n",
      "7\n",
      "8\n",
      "9\n",
      "10\n",
      "11\n",
      "12\n",
      "13\n",
      "14\n",
      "15\n",
      "16\n",
      "17\n",
      "18\n",
      "19\n",
      "20\n",
      "21\n",
      "22\n",
      "23\n",
      "24\n",
      "25\n",
      "26\n",
      "27\n",
      "28\n",
      "29\n",
      "30\n",
      "31\n",
      "32\n",
      "33\n",
      "34\n",
      "35\n",
      "36\n",
      "37\n",
      "38\n",
      "39\n",
      "40\n",
      "41\n",
      "42\n",
      "43\n",
      "44\n",
      "45\n",
      "46\n",
      "47\n",
      "48\n",
      "49\n",
      "50\n",
      "51\n",
      "52\n",
      "53\n",
      "54\n",
      "55\n",
      "56\n",
      "57\n",
      "58\n",
      "59\n",
      "60\n",
      "61\n",
      "62\n",
      "63\n",
      "64\n",
      "65\n",
      "66\n",
      "67\n",
      "68\n",
      "69\n",
      "70\n",
      "71\n",
      "72\n",
      "73\n",
      "74\n",
      "75\n",
      "76\n",
      "77\n",
      "78\n",
      "79\n",
      "80\n",
      "81\n",
      "82\n",
      "83\n",
      "84\n",
      "85\n",
      "86\n",
      "87\n",
      "88\n",
      "89\n",
      "90\n",
      "91\n",
      "92\n",
      "93\n",
      "94\n",
      "95\n",
      "96\n",
      "97\n",
      "98\n",
      "99\n",
      "100\n",
      "5050\n"
     ]
    }
   ],
   "source": [
    "#print the sum of first 100 numbers \n",
    "\n",
    "n = 100\n",
    "r = 0\n",
    "counter = 1\n",
    "while counter<=n:\n",
    "    print(counter)\n",
    "    r+=counter\n",
    "    counter +=1\n",
    "print(r)\n"
   ]
  },
  {
   "cell_type": "markdown",
   "metadata": {},
   "source": [
    "### Data Types (List, Tuple, Set, Dictionary)"
   ]
  },
  {
   "cell_type": "code",
   "execution_count": 5,
   "metadata": {},
   "outputs": [
    {
     "name": "stdout",
     "output_type": "stream",
     "text": [
      "1\n",
      "6\n",
      "5\n"
     ]
    }
   ],
   "source": [
    "numbers = [1,2,3,4,5,5]\n",
    "student = ['Ram', 'Hari']\n",
    "# Access elements from List\n",
    "first_number = numbers[0]\n",
    "print(first_number)\n",
    "# Count total Number of Items\n",
    "total_items =len(numbers)\n",
    "print(total_items)\n",
    "\n",
    "# last_element\n",
    "last_element = numbers[total_items - 1]\n",
    "print(last_element)\n",
    "\n"
   ]
  },
  {
   "cell_type": "markdown",
   "metadata": {},
   "source": [
    "### Using a while loop find the sum in a list"
   ]
  },
  {
   "cell_type": "code",
   "execution_count": 12,
   "metadata": {},
   "outputs": [
    {
     "name": "stdout",
     "output_type": "stream",
     "text": [
      "1\n",
      "2\n",
      "3\n",
      "4\n",
      "5\n",
      "6\n",
      "6\n",
      "27\n"
     ]
    }
   ],
   "source": [
    "# find the sum in a list using while loop\n",
    "numbers = [1,2,3,4,5,6,6]\n",
    "totalitems=len(numbers)\n",
    "index=0\n",
    "sum=0\n",
    "while index<totalitems:\n",
    "    sum+=numbers[index]\n",
    "    print(numbers[index])\n",
    "    index+=1\n",
    "print(sum)\n"
   ]
  },
  {
   "cell_type": "markdown",
   "metadata": {},
   "source": [
    "# list methods\n",
    "- append (Appends new items at the end)\n",
    "- pop (Removes last element)\n",
    "- count (Return total number of items)\n",
    "- insert (Insert item at particular index)\n",
    "- extend (Extend the list)\n",
    "- copy (Copy all items)\n",
    "- clear(Delete all items)\n"
   ]
  },
  {
   "cell_type": "code",
   "execution_count": 8,
   "metadata": {},
   "outputs": [
    {
     "name": "stdout",
     "output_type": "stream",
     "text": [
      "[1, 4, 3, 5, 6, 7, 8]\n",
      "[1, 4, 3, 5, 6, 7, 8, 9]\n",
      "[1, 4, 3, 5, 6, 7, 8]\n",
      "[1, 4, 3, 6, 7, 8]\n",
      "[1, 4, 10, 3, 6, 7, 8]\n",
      "[1, 2, 3, 4]\n",
      "[]\n"
     ]
    }
   ],
   "source": [
    "numbers =[1,4,3,5,6,7,8]\n",
    "print(numbers)\n",
    "# Append items\n",
    "numbers.append(9)\n",
    "print(numbers)\n",
    "# Remove last Items\n",
    "numbers.pop()\n",
    "print(numbers)\n",
    "#remove \n",
    "numbers.remove(5)\n",
    "print(numbers)\n",
    "#insert\n",
    "numbers.insert(2,10)\n",
    "print(numbers)\n",
    "\n",
    "numbers_1=[1,2]\n",
    "numbers_2 = [3,4]\n",
    "numbers_1 .extend(numbers_2)\n",
    "print(numbers_1)\n",
    "\n",
    "#To clear data\n",
    "numbers_1.clear()\n",
    "print(numbers_1)\n"
   ]
  },
  {
   "cell_type": "code",
   "execution_count": 16,
   "metadata": {},
   "outputs": [
    {
     "name": "stdout",
     "output_type": "stream",
     "text": [
      "6 5\n",
      "['Ram', 'hari', 'Gopal']\n",
      "5\n",
      "['Ram', 'hari']\n"
     ]
    }
   ],
   "source": [
    "# \n",
    "a = 5\n",
    "b = a\n",
    "a= a+1\n",
    "print(a,b)\n",
    "\n",
    "#reference in memory\n",
    "students = ['Ram', 'hari']\n",
    "new_students = students\n",
    "students.append('Gopal')\n",
    "print(new_students)\n",
    "print(b)\n",
    "\n",
    "a = ['Ram', 'hari']\n",
    "b = a.copy()\n",
    "a.append('Gopal')\n",
    "print(b)\n",
    "\n",
    "#check  value exist in the list\n",
    "if 'raam' in a :\n",
    "    print('ram exist in a')\n",
    "\n",
    "\n",
    "\n",
    "\n"
   ]
  },
  {
   "cell_type": "markdown",
   "metadata": {},
   "source": [
    "### Loop Through List"
   ]
  },
  {
   "cell_type": "code",
   "execution_count": 33,
   "metadata": {},
   "outputs": [
    {
     "name": "stdout",
     "output_type": "stream",
     "text": [
      "27\n"
     ]
    }
   ],
   "source": [
    "# To find the sum of all items of given list \n",
    "numbers = [1,2,3,4,5,6,6]\n",
    "total_items = len(numbers)\n",
    "index = 0\n",
    "sum = 0\n",
    "while index<total_items:\n",
    "    sum+= numbers[index]\n",
    "    index+=1\n",
    "\n",
    "print(sum)\n"
   ]
  },
  {
   "cell_type": "code",
   "execution_count": 30,
   "metadata": {},
   "outputs": [
    {
     "name": "stdout",
     "output_type": "stream",
     "text": [
      "1009\n"
     ]
    }
   ],
   "source": [
    "#Find the max value from the given list\n",
    "n=[-10,3,9,-50,100,1009]\n",
    "i=0\n",
    "total_items =len(n)\n",
    "max_value=n[0]\n",
    "while i<total_items:\n",
    "    if n[i]>max_value:\n",
    "         max_value=n[i]\n",
    "    i+=1\n",
    "print(max_value)"
   ]
  },
  {
   "cell_type": "markdown",
   "metadata": {},
   "source": [
    "### Print the list after removing \"ram\""
   ]
  },
  {
   "cell_type": "code",
   "execution_count": 11,
   "metadata": {},
   "outputs": [
    {
     "name": "stdout",
     "output_type": "stream",
     "text": [
      "['Hari', 'Gita']\n"
     ]
    }
   ],
   "source": [
    "students= [\"ram\",\"Hari\", \"Gita\"]\n",
    "filterdstudents=[i for i in students if i != \"ram\"]\n",
    "print(filterdstudents)\n"
   ]
  },
  {
   "cell_type": "markdown",
   "metadata": {},
   "source": [
    "### Join all list items into single string \n"
   ]
  },
  {
   "cell_type": "code",
   "execution_count": 29,
   "metadata": {},
   "outputs": [
    {
     "name": "stdout",
     "output_type": "stream",
     "text": [
      "Ram-hari-Gopal\n"
     ]
    }
   ],
   "source": [
    "# Join all list items into single string \n",
    "students = ['Ram', 'hari', 'Gopal']\n",
    "all_students = '-'.join(students)\n",
    "print(all_students)\n"
   ]
  }
 ],
 "metadata": {
  "kernelspec": {
   "display_name": "Python 3",
   "language": "python",
   "name": "python3"
  },
  "language_info": {
   "codemirror_mode": {
    "name": "ipython",
    "version": 3
   },
   "file_extension": ".py",
   "mimetype": "text/x-python",
   "name": "python",
   "nbconvert_exporter": "python",
   "pygments_lexer": "ipython3",
   "version": "3.9.13"
  }
 },
 "nbformat": 4,
 "nbformat_minor": 2
}
