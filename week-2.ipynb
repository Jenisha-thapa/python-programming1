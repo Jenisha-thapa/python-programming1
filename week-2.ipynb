{
 "cells": [
  {
   "cell_type": "markdown",
   "metadata": {},
   "source": [
    "## For loop \n",
    "iterate over list, range (enumarator)\n"
   ]
  },
  {
   "cell_type": "code",
   "execution_count": 9,
   "metadata": {},
   "outputs": [
    {
     "name": "stdout",
     "output_type": "stream",
     "text": [
      "1\n",
      "2\n",
      "3\n",
      "4\n",
      "5\n",
      "1\n",
      "2\n",
      "3\n",
      "4\n",
      "5\n"
     ]
    }
   ],
   "source": [
    "numbers = [1,2,3,4,5] # list of the integer \n",
    "\n",
    "counter = 0\n",
    "while counter<len(numbers):\n",
    "    print(numbers[counter])\n",
    "    counter+=1\n",
    "# Using for loop for same question\n",
    "\n",
    "for num in numbers:\n",
    "    print(num)\n"
   ]
  },
  {
   "cell_type": "markdown",
   "metadata": {},
   "source": [
    "# To create new list only including even numbers "
   ]
  },
  {
   "cell_type": "code",
   "execution_count": 15,
   "metadata": {},
   "outputs": [
    {
     "name": "stdout",
     "output_type": "stream",
     "text": [
      "2\n",
      "4\n",
      "6\n",
      "8\n",
      "14\n",
      "100\n",
      "The new list with unique numbers are: [1, 4, 2, 3, 5, 6, 7]\n"
     ]
    }
   ],
   "source": [
    "numbers = [1,2,3,4,5,6,7,8,1,14,15,100] \n",
    "\n",
    "even_list = [] #first empty the list\n",
    "#iterate over the list\n",
    "for num in numbers:\n",
    "    if num % 2==0:\n",
    "        print(num)\n",
    "        even_list.append(num)\n",
    "\n",
    "# create the new list and remove duplicates items from the given list. \n",
    "numbers = [1,4,4,2,4,3,4,4,5,6,7,7]\n",
    "new_list= []\n",
    "for num in numbers:\n",
    " if num not in new_list:\n",
    "    new_list.append(num)\n",
    "print(\"The new list with unique numbers are:\", new_list)"
   ]
  },
  {
   "cell_type": "markdown",
   "metadata": {},
   "source": [
    "### Range\n",
    "Range(start, stop, step)"
   ]
  },
  {
   "cell_type": "code",
   "execution_count": 26,
   "metadata": {},
   "outputs": [
    {
     "name": "stdout",
     "output_type": "stream",
     "text": [
      "0\n",
      "2\n",
      "4\n",
      "6\n",
      "8\n"
     ]
    }
   ],
   "source": [
    "range_of_100 = range(1,10)\n",
    "for i in range(0,10,2): # for i=0;i<10;i++\n",
    "    print(i)\n"
   ]
  },
  {
   "cell_type": "markdown",
   "metadata": {},
   "source": [
    "# inline for loop\n"
   ]
  },
  {
   "cell_type": "code",
   "execution_count": 29,
   "metadata": {},
   "outputs": [
    {
     "name": "stdout",
     "output_type": "stream",
     "text": [
      "[2, 4, 6, 100]\n",
      "[100, 200, 300, 400, 500, 500, 600, 700, 900, 10000]\n"
     ]
    }
   ],
   "source": [
    "numbers = [1,2,3,4,5,5,6,7,9,100]\n",
    "list_of_even_numbers = [ num for num in numbers if num %2==0]\n",
    "print(list_of_even_numbers)\n",
    "\n",
    "#using transform\n",
    "numbers = [1,2,3,4,5,5,6,7,9,100]\n",
    "list_of_transformed_numbers = [ num *100 for num in numbers]\n",
    "print(list_of_transformed_numbers)\n"
   ]
  },
  {
   "cell_type": "markdown",
   "metadata": {},
   "source": [
    "### Function\n"
   ]
  },
  {
   "cell_type": "code",
   "execution_count": 36,
   "metadata": {},
   "outputs": [
    {
     "name": "stdout",
     "output_type": "stream",
     "text": [
      "Sum_of_two_numbers 85\n",
      "110\n",
      "multiply_of_two_numbers 1800\n",
      "110\n"
     ]
    }
   ],
   "source": [
    "#to print sum of numbers using the function\n",
    "def add(x,y):\n",
    "    sum=x+y\n",
    "    return sum\n",
    "\n",
    "sum_of_two_numbers = add(x=40, y=45) #calling function \n",
    "print(\"Sum_of_two_numbers\", sum_of_two_numbers)\n",
    "print(add(10,100))\n",
    "\n",
    "#to print the multple of the numbers \n",
    "def multiply(x,y):\n",
    "    multiply=x*y\n",
    "    return multiply\n",
    "\n",
    "multiply_of_two_numbers = multiply(x=40, y=45) #calling function \n",
    "print(\"multiply_of_two_numbers\", multiply_of_two_numbers)\n",
    "print(add(10,100))\n"
   ]
  }
 ],
 "metadata": {
  "kernelspec": {
   "display_name": "base",
   "language": "python",
   "name": "python3"
  },
  "language_info": {
   "codemirror_mode": {
    "name": "ipython",
    "version": 3
   },
   "file_extension": ".py",
   "mimetype": "text/x-python",
   "name": "python",
   "nbconvert_exporter": "python",
   "pygments_lexer": "ipython3",
   "version": "3.12.4"
  }
 },
 "nbformat": 4,
 "nbformat_minor": 2
}
